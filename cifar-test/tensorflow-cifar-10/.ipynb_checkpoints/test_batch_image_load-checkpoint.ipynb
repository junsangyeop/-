{
 "cells": [
  {
   "cell_type": "code",
   "execution_count": 15,
   "metadata": {
    "collapsed": false
   },
   "outputs": [
    {
     "name": "stdout",
     "output_type": "stream",
     "text": [
      "(32, 32, 3)\n"
     ]
    },
    {
     "data": {
      "image/png": "[encoded data removed]",
      "text/plain": [
       "<matplotlib.figure.Figure at 0x7f7ba3980690>"
      ]
     },
     "metadata": {},
     "output_type": "display_data"
    }
   ],
   "source": [
    "import numpy as np\n",
    "import matplotlib.pyplot as plt\n",
    "# from six.moves import cPickle\n",
    "import pickle\n",
    "from PIL import Image\n",
    "%matplotlib inline\n",
    "\n",
    "f = open('./data_set/cifar_10/test_batch', 'rb')\n",
    "# datadict = cPickle.load(f,encoding='latin1')\n",
    "datadict = pickle.load(f)\n",
    "f.close()\n",
    "X = datadict[\"data\"]\n",
    "Y = datadict['labels']\n",
    "X = X.reshape(10000, 3, 32, 32).transpose(0,2,3,1).astype(\"uint8\")\n",
    "Y = np.array(Y)\n",
    "\n",
    "print(X[0:1][0].shape)\n",
    "\n",
    "fig = plt.figure(figsize=(1, 1))  # , figsize=(15, 10.8), dpi=200\n",
    "ax = plt.Axes(fig, [0., 0., 1., 1.])\n",
    "ax.set_axis_off()\n",
    "fig.add_axes(ax)\n",
    "plt.set_cmap('hot')\n",
    "\n",
    "# for i in range(10, 20) :\n",
    "#     ax.imshow(X[i:i+1][0])\n",
    "#     plt.savefig('test_image_' + str(i) + '.png')\n",
    "\n",
    "# for i in range(10, 20) :\n",
    "#     im = Image.fromarray(X[i:i+1][0])\n",
    "#     im.save('test_image_' + str(i) + '.png')"
   ]
  },
  {
   "cell_type": "code",
   "execution_count": null,
   "metadata": {
    "collapsed": true
   },
   "outputs": [],
   "source": [
    "\n",
    "#Visualizing CIFAR 10\n",
    "fig, axes1 = plt.subplots(5,5,figsize=(3,3))\n",
    "for j in range(5):\n",
    "    for k in range(5):\n",
    "        i = np.random.choice(range(len(X)))\n",
    "        axes1[j][k].set_axis_off()\n",
    "        axes1[j][k].imshow(X[i:i+1][0])\n"
   ]
  },
  {
   "cell_type": "code",
   "execution_count": 12,
   "metadata": {
    "collapsed": false
   },
   "outputs": [
    {
     "name": "stdout",
     "output_type": "stream",
     "text": [
      "(32, 32, 3)\n"
     ]
    }
   ],
   "source": [
    "# print(X[10:11][0])\n",
    "print(X[10:11][0].shape)"
   ]
  }
 ],
 "metadata": {
  "kernelspec": {
   "display_name": "Python 2",
   "language": "python",
   "name": "python2"
  },
  "language_info": {
   "codemirror_mode": {
    "name": "ipython",
    "version": 2
   },
   "file_extension": ".py",
   "mimetype": "text/x-python",
   "name": "python",
   "nbconvert_exporter": "python",
   "pygments_lexer": "ipython2",
   "version": "2.7.6"
  }
 },
 "nbformat": 4,
 "nbformat_minor": 1
}
