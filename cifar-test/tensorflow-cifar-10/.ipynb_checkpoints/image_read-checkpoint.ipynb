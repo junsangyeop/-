{
 "cells": [
  {
   "cell_type": "code",
   "execution_count": 2,
   "metadata": {
    "collapsed": false
   },
   "outputs": [],
   "source": [
    "import numpy as np\n",
    "from PIL import Image\n",
    "import matplotlib.pyplot as plt\n",
    "%matplotlib inline"
   ]
  },
  {
   "cell_type": "code",
   "execution_count": 5,
   "metadata": {
    "collapsed": false
   },
   "outputs": [
    {
     "name": "stdout",
     "output_type": "stream",
     "text": [
      "(32, 32, 3)\n",
      "[[[ 90 124 149]\n",
      "  [ 90 124 149]\n",
      "  [ 91 125 150]\n",
      "  ..., \n",
      "  [103 131 148]\n",
      "  [100 128 146]\n",
      "  [100 129 146]]\n",
      "\n",
      " [[ 92 127 153]\n",
      "  [ 93 127 152]\n",
      "  [ 94 128 153]\n",
      "  ..., \n",
      "  [114 137 151]\n",
      "  [103 130 148]\n",
      "  [102 132 152]]\n",
      "\n",
      " [[ 93 128 153]\n",
      "  [ 93 127 152]\n",
      "  [ 94 128 152]\n",
      "  ..., \n",
      "  [114 133 145]\n",
      "  [103 129 147]\n",
      "  [101 132 152]]\n",
      "\n",
      " ..., \n",
      " [[101 133 154]\n",
      "  [101 132 153]\n",
      "  [102 133 154]\n",
      "  ..., \n",
      "  [ 94 124 150]\n",
      "  [ 92 122 148]\n",
      "  [ 91 122 148]]\n",
      "\n",
      " [[100 131 153]\n",
      "  [101 132 153]\n",
      "  [102 133 154]\n",
      "  ..., \n",
      "  [ 93 123 149]\n",
      "  [ 90 120 146]\n",
      "  [ 90 121 147]]\n",
      "\n",
      " [[ 99 130 152]\n",
      "  [100 130 151]\n",
      "  [101 132 153]\n",
      "  ..., \n",
      "  [ 92 122 148]\n",
      "  [ 90 120 146]\n",
      "  [ 89 120 146]]]\n"
     ]
    },
    {
     "data": {
      "image/png": "[encoded data removed]",
      "text/plain": [
       "<matplotlib.figure.Figure at 0x7f73904db090>"
      ]
     },
     "metadata": {},
     "output_type": "display_data"
    }
   ],
   "source": [
    "filename = './test_image_10.png'\n",
    "\n",
    "img = Image.open( filename)\n",
    "data = np.array( img, dtype='uint8' )\n",
    "\n",
    "# data_1 = data.reshape(1, 3, 32, 32).transpose(0, 2,3,1)\n",
    "\n",
    "fig = plt.figure(figsize=(1, 1))  # , figsize=(15, 10.8), dpi=200\n",
    "ax = plt.Axes(fig, [0., 0., 1., 1.])\n",
    "ax.set_axis_off()\n",
    "fig.add_axes(ax)\n",
    "plt.set_cmap('hot')\n",
    "\n",
    "# ax.imshow(X[i:i+1][0])\n",
    "\n",
    "ax.imshow(data)\n",
    "\n",
    "print(data.shape)\n",
    "# print(data)"
   ]
  }
 ],
 "metadata": {
  "kernelspec": {
   "display_name": "Python 2",
   "language": "python",
   "name": "python2"
  },
  "language_info": {
   "codemirror_mode": {
    "name": "ipython",
    "version": 2
   },
   "file_extension": ".py",
   "mimetype": "text/x-python",
   "name": "python",
   "nbconvert_exporter": "python",
   "pygments_lexer": "ipython2",
   "version": "2.7.6"
  }
 },
 "nbformat": 4,
 "nbformat_minor": 1
}
